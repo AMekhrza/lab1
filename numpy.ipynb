{
  "cells": [
    {
      "cell_type": "markdown",
      "metadata": {
        "id": "vC84e9kzyxPy"
      },
      "source": [
        "<h1>Импорт библиотек"
      ]
    },
    {
      "cell_type": "code",
      "execution_count": 3,
      "metadata": {
        "id": "cgKeNegmQG5S"
      },
      "outputs": [],
      "source": [
        "import numpy as np\n",
        "import matplotlib.pyplot as plt"
      ]
    },
    {
      "cell_type": "markdown",
      "metadata": {
        "id": "qFM9uVU2x4Ls"
      },
      "source": [
        "<h1>Задача 1. Дан набор из $p$ матриц размерностью $(n, n)$ и $p$ векторов размерностью $(n, 1)$, найти сумму произведений матриц на векторы. Написать тесты для кода"
      ]
    },
    {
      "cell_type": "code",
      "execution_count": 5,
      "metadata": {
        "id": "IAbUvEiYyWFF"
      },
      "outputs": [],
      "source": [
        "def sum_prod(X, V):\n",
        "    '''\n",
        "    X - матрицы (n, n)\n",
        "    V - векторы (n, 1)\n",
        "    Гарантируется, что len(X) == len(V)\n",
        "    '''\n",
        "    # Инициализируем результат как нулевой вектор размером (n, 1)\n",
        "    result = np.zeros_like(V[0])\n",
        "    \n",
        "    # Перебираем пары (матрица, вектор) и выполняем умножение, добавляя результат\n",
        "    for matrix, vector in zip(X, V):\n",
        "        result += np.dot(matrix, vector)\n",
        "    \n",
        "    return result\n",
        "\n",
        "\n",
        "# Тесты\n",
        "def test_sum_prod():\n",
        "    # Тест 1: проверка с конкретными числами\n",
        "    X = [np.array([[1, 2], [3, 4]]), np.array([[5, 6], [7, 8]])]\n",
        "    V = [np.array([[1], [1]]), np.array([[2], [2]])]\n",
        "    expected_result = np.array([[34], [50]])  # ожидаемый результат\n",
        "    assert np.array_equal(sum_prod(X, V), expected_result), \"Тест 1 не пройден!\"\n",
        "\n",
        "    # Тест 2: проверка с нулями\n",
        "    X = [np.zeros((2, 2)), np.zeros((2, 2))]\n",
        "    V = [np.zeros((2, 1)), np.zeros((2, 1))]\n",
        "    expected_result = np.zeros((2, 1))  # ожидаемый результат\n",
        "    assert np.array_equal(sum_prod(X, V), expected_result), \"Тест 2 не пройден!\"\n",
        "\n",
        "    # Тест 3: проверка с единичными матрицами\n",
        "    X = [np.eye(2), np.eye(2)]\n",
        "    V = [np.array([[1], [1]]), np.array([[1], [1]])]\n",
        "    expected_result = np.array([[2], [2]])  # ожидаемый результат\n",
        "    assert np.array_equal(sum_prod(X, V), expected_result), \"Тест 3 не пройден!\"\n",
        "\n",
        "    print(\"Все тесты пройдены!\")\n",
        "\n",
        "# Запуск тестов\n",
        "    test_sum_prod()"
      ]
    },
    {
      "cell_type": "markdown",
      "metadata": {
        "id": "TKwPG4fIy2w4"
      },
      "source": [
        "Задача 2. Дана матрица M, напишите функцию, которая бинаризует матрицу по некоторому threshold (то есть, все значения большие threshold становятся равными 1, иначе 0). Напишите тесты для кода"
      ]
    },
    {
      "cell_type": "code",
      "execution_count": null,
      "metadata": {},
      "outputs": [],
      "source": []
    },
    {
      "cell_type": "code",
      "execution_count": 6,
      "metadata": {
        "id": "KQDNMgsjRNH7"
      },
      "outputs": [],
      "source": [
        "def binarize(M, threshold=0.5):\n",
        "     # Применяем условие: если элемент больше или равен threshold, ставим 1, иначе 0\n",
        "    binary_matrix = (M >= threshold).astype(int)\n",
        "    return binary_matrix\n",
        "\n",
        "# Тесты\n",
        "def test_binarize():\n",
        "    # Тест 1: обычный случай с threshold 0.5\n",
        "    M = np.array([[0.3, 0.6], [0.7, 0.2]])\n",
        "    threshold = 0.5\n",
        "    expected_result = np.array([[0, 1], [1, 0]])  # ожидаемый результат\n",
        "    assert np.array_equal(binarize(M, threshold), expected_result), \"Тест 1 не пройден!\"\n",
        "    \n",
        "    # Тест 2: случай, когда threshold больше всех элементов\n",
        "    M = np.array([[0.1, 0.2], [0.3, 0.4]])\n",
        "    threshold = 0.9\n",
        "    expected_result = np.array([[0, 0], [0, 0]])  # все элементы меньше threshold\n",
        "    assert np.array_equal(binarize(M, threshold), expected_result), \"Тест 2 не пройден!\"\n",
        "    \n",
        "    # Тест 3: случай, когда threshold меньше всех элементов\n",
        "    M = np.array([[1.0, 1.5], [2.0, 3.0]])\n",
        "    threshold = 0.5\n",
        "    expected_result = np.array([[1, 1], [1, 1]])  # все элементы больше threshold\n",
        "    assert np.array_equal(binarize(M, threshold), expected_result), \"Тест 3 не пройден!\"\n",
        "    \n",
        "    # Тест 4: проверка с отрицательными значениями\n",
        "    M = np.array([[-0.3, 0.6], [0.7, -0.2]])\n",
        "    threshold = 0\n",
        "    expected_result = np.array([[0, 1], [1, 0]])  # пороговое значение 0\n",
        "    assert np.array_equal(binarize(M, threshold), expected_result), \"Тест 4 не пройден!\"\n",
        "    \n",
        "    print(\"Все тесты пройдены!\")\n",
        "\n",
        "# Запуск тестов\n",
        "    test_binarize()\n"
      ]
    },
    {
      "cell_type": "markdown",
      "metadata": {
        "id": "IY5L-h-7zWhN"
      },
      "source": [
        "<h1>Задача 3. Напишите функцию, которая возвращает уникальные элементы из каждой строки матрицы. Напишите такую же функцию, но для столбцов. Напишите тесты для кода"
      ]
    },
    {
      "cell_type": "code",
      "execution_count": 7,
      "metadata": {
        "id": "-8dEZhR0SBC-"
      },
      "outputs": [],
      "source": [
        "def unique_rows(mat):\n",
        "    \"\"\"\n",
        "    Возвращает список уникальных элементов для каждой строки матрицы.\n",
        "    \n",
        "    :param mat: Входная матрица (numpy array)\n",
        "    :return: Список уникальных элементов для каждой строки\n",
        "    \"\"\"\n",
        "    return [np.unique(row) for row in mat]\n",
        "\n",
        "def unique_columns(mat):\n",
        "    \"\"\"\n",
        "    Возвращает список уникальных элементов для каждого столбца матрицы.\n",
        "    \n",
        "    :param mat: Входная матрица (numpy array)\n",
        "    :return: Список уникальных элементов для каждого столбца\n",
        "    \"\"\"\n",
        "    return [np.unique(mat[:, col]) for col in range(mat.shape[1])]\n",
        "\n",
        "\n",
        "# Тесты\n",
        "def test_unique_rows_columns():\n",
        "    # Тест 1: Проверка уникальных элементов по строкам\n",
        "    mat = np.array([[1, 2, 2], [3, 3, 3], [4, 5, 4]])\n",
        "    expected_rows = [np.array([1, 2]), np.array([3]), np.array([4, 5])]\n",
        "    assert all(np.array_equal(unique_rows(mat)[i], expected_rows[i]) for i in range(len(expected_rows))), \"Тест 1 (строки) не пройден!\"\n",
        "    \n",
        "    # Тест 2: Проверка уникальных элементов по столбцам\n",
        "    expected_columns = [np.array([1, 3, 4]), np.array([2, 3, 5]), np.array([2, 3, 4])]\n",
        "    assert all(np.array_equal(unique_columns(mat)[i], expected_columns[i]) for i in range(len(expected_columns))), \"Тест 2 (столбцы) не пройден!\"\n",
        "    \n",
        "    # Тест 3: Проверка на матрице с одинаковыми элементами\n",
        "    mat = np.array([[1, 1], [1, 1]])\n",
        "    expected_rows = [np.array([1]), np.array([1])]\n",
        "    expected_columns = [np.array([1]), np.array([1])]\n",
        "    assert all(np.array_equal(unique_rows(mat)[i], expected_rows[i]) for i in range(len(expected_rows))), \"Тест 3 (строки) не пройден!\"\n",
        "    assert all(np.array_equal(unique_columns(mat)[i], expected_columns[i]) for i in range(len(expected_columns))), \"Тест 3 (столбцы) не пройден!\"\n",
        "    \n",
        "    # Тест 4: Проверка на пустой матрице\n",
        "    mat = np.array([[]])\n",
        "    expected_rows = []\n",
        "    expected_columns = []\n",
        "    assert unique_rows(mat) == expected_rows, \"Тест 4 (строки) не пройден!\"\n",
        "    assert unique_columns(mat) == expected_columns, \"Тест 4 (столбцы) не пройден!\"\n",
        "    \n",
        "    print(\"Все тесты пройдены!\")\n",
        "\n",
        "# Запуск тестов\n",
        "    test_unique_rows_columns()"
      ]
    },
    {
      "cell_type": "markdown",
      "metadata": {
        "id": "roYAlo4Jz-lH"
      },
      "source": [
        "<h1>Задача 4. Напишите функцию, которая заполняет матрицу с размерами $(m, n)$ случайными числами, распределенными по нормальному закону. Затем считает мат. ожидание и дисперсию для каждого из столбцов и строк, а также строит для каждой строки и столбца гистограмму значений (использовать функцию hist из модуля matplotlib.plot)"
      ]
    },
    {
      "cell_type": "code",
      "execution_count": 8,
      "metadata": {
        "id": "nZK_71hMSQzv"
      },
      "outputs": [],
      "source": [
        "\n",
        "def generate_matrix_and_stats(m, n):\n",
        "    \"\"\"\n",
        "    Генерация матрицы размером (m, n) случайных чисел, распределённых по нормальному закону.\n",
        "    Вычисление мат. ожидания и дисперсии для каждой строки и каждого столбца.\n",
        "    Строительство гистограмм для каждого столбца и строки.\n",
        "    \n",
        "    :param m: количество строк\n",
        "    :param n: количество столбцов\n",
        "    \"\"\"\n",
        "    # Генерация матрицы (m, n) случайных чисел с нормальным распределением\n",
        "    matrix = np.random.randn(m, n)\n",
        "    \n",
        "    # Вычисление мат. ожидания и дисперсии для строк и столбцов\n",
        "    mean_rows = np.mean(matrix, axis=1)  # среднее для строк\n",
        "    var_rows = np.var(matrix, axis=1)    # дисперсия для строк\n",
        "    \n",
        "    mean_columns = np.mean(matrix, axis=0)  # среднее для столбцов\n",
        "    var_columns = np.var(matrix, axis=0)    # дисперсия для столбцов\n",
        "    \n",
        "    print(\"Мат. ожидание для строк:\", mean_rows)\n",
        "    print(\"Дисперсия для строк:\", var_rows)\n",
        "    print(\"Мат. ожидание для столбцов:\", mean_columns)\n",
        "    print(\"Дисперсия для столбцов:\", var_columns)\n",
        "    \n",
        "    # Построение гистограмм для строк\n",
        "    for i in range(m):\n",
        "        plt.figure()\n",
        "        plt.hist(matrix[i, :], bins=10, alpha=0.7, color='blue')\n",
        "        plt.title(f\"Гистограмма для строки {i+1}\")\n",
        "        plt.xlabel(\"Значения\")\n",
        "        plt.ylabel(\"Частота\")\n",
        "        plt.show()\n",
        "    \n",
        "    # Построение гистограмм для столбцов\n",
        "    for j in range(n):\n",
        "        plt.figure()\n",
        "        plt.hist(matrix[:, j], bins=10, alpha=0.7, color='green')\n",
        "        plt.title(f\"Гистограмма для столбца {j+1}\")\n",
        "        plt.xlabel(\"Значения\")\n",
        "        plt.ylabel(\"Частота\")\n",
        "        plt.show()\n",
        "\n",
        "# Пример использования функции:\n",
        "    generate_matrix_and_stats(5, 4)  # матрица 5x4"
      ]
    },
    {
      "cell_type": "markdown",
      "metadata": {
        "id": "BDyATNdM0dJ2"
      },
      "source": [
        "<h1>Задача 5. Напишите функцию, которая заполняет матрицу $(m, n)$ в шахматном порядке заданными числами $a$ и $b$. Напишите тесты для кода"
      ]
    },
    {
      "cell_type": "code",
      "execution_count": null,
      "metadata": {
        "id": "RWNJYWQGecS6"
      },
      "outputs": [],
      "source": [
        "def chess(m, n, a, b):\n",
        "    # Your code goes here\n",
        "    pass"
      ]
    },
    {
      "cell_type": "markdown",
      "metadata": {
        "id": "-ymXLtTN0vB6"
      },
      "source": [
        "<h1>Задача 6. Напишите функцию, которая отрисовывает прямоугольник с заданными размерами (a, b) на изображении размера (m, n), цвет фона задайте в схеме RGB, как и цвет прямоугольника. Цвета также должны быть параметрами функции. Напишите аналогичную функцию но для овала с полуосями a и b. Напишите тесты для кода.\n",
        "Примечание: уравнение эллипса (границы овала) можно записать как:\n",
        "<h1>$\\frac{(x-x_0)^2}{a^2}+\\frac{(y-y_0)^2}{b^2}=1$"
      ]
    },
    {
      "cell_type": "code",
      "execution_count": 1,
      "metadata": {
        "id": "sNfl1t_kfOF4"
      },
      "outputs": [],
      "source": [
        "def draw_rectangle(a, b, m, n, rectangle_color, background_color):\n",
        "    # Your code goes here\n",
        "    pass\n",
        "\n",
        "def draw_ellipse(a, b, m, n, ellipse_color, background_color):\n",
        "    # Your code goes here\n",
        "    pass"
      ]
    },
    {
      "cell_type": "markdown",
      "metadata": {
        "id": "S82c38oz244H"
      },
      "source": [
        "<h1>Задача 7. Дан некий временной ряд. Для данного ряда нужно найти его: математическое ожидание, дисперсию, СКО, найти все локальные максимумы и минимумы (локальный максимум - это точка, которая больше своих соседних точек, а локальный минимум - это точка, которая меньше своих соседей), а также вычислить для данного ряда другой ряд, получаемый методом скользящего среднего с размером окна $p$.\n",
        "<h1>Примечание: метод скользящего среднего подразумевает нахождение среднего из подмножетсва ряда размером $p$"
      ]
    },
    {
      "cell_type": "code",
      "execution_count": null,
      "metadata": {
        "id": "Zb9mIVge5MMt"
      },
      "outputs": [],
      "source": [
        "# Your code goes here"
      ]
    },
    {
      "cell_type": "markdown",
      "metadata": {
        "id": "jPkylmOX5O9n"
      },
      "source": [
        "<h1> Задача 8. Дан некоторый вектор с целочисленными метками классов, напишите функцию, которая выполняет one-hot-encoding для данного вектора\n",
        "<h1> One-hot-encoding - представление, в котором на месте метки некоторого класса стоит 1, в остальных позициях стоит 0. Например для вектора [0, 2, 3, 0] one-hot-encoding выглядит как: [[1, 0, 0, 0], [0, 0, 1, 0], [0, 0, 0, 1], [1, 0, 0, 0]]"
      ]
    },
    {
      "cell_type": "code",
      "execution_count": null,
      "metadata": {
        "id": "Y-jlnZvw56lD"
      },
      "outputs": [],
      "source": [
        "# Your code goes here"
      ]
    }
  ],
  "metadata": {
    "colab": {
      "provenance": []
    },
    "kernelspec": {
      "display_name": "Python 3",
      "name": "python3"
    },
    "language_info": {
      "codemirror_mode": {
        "name": "ipython",
        "version": 3
      },
      "file_extension": ".py",
      "mimetype": "text/x-python",
      "name": "python",
      "nbconvert_exporter": "python",
      "pygments_lexer": "ipython3",
      "version": "3.12.4"
    }
  },
  "nbformat": 4,
  "nbformat_minor": 0
}
